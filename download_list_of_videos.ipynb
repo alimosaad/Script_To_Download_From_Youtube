{
 "cells": [
  {
   "cell_type": "code",
   "execution_count": null,
   "id": "d8dc8070",
   "metadata": {},
   "outputs": [],
   "source": [
    "from pytube import YouTube\n",
    "from colorama import init, Fore\n",
    "\n",
    "def on_complete(stream, filepath):\n",
    "    print('Download complete')\n",
    "    print(filepath)\n",
    "\n",
    "def on_progress(stream, chunk, bytes_remaining):\n",
    "    progress_string = f'{round(100 - (bytes_remaining / stream.filesize * 100),2)}%'\n",
    "    print(progress_string)\n",
    "\n",
    "init()\n",
    "\n",
    "# List of YouTube links to download\n",
    "video_links = [\n",
    "    #add links here like \n",
    "    'https://video1',\n",
    "    'https://video2',\n",
    "    \n",
    "    # Add more links as needed\n",
    "]\n",
    "\n",
    "# Base directory where videos will be saved\n",
    "base_directory = r\"E:\\personal\\New folder\"\n",
    "\n",
    "for link in video_links:\n",
    "    video_object = YouTube(link, on_complete_callback=on_complete, on_progress_callback=on_progress)\n",
    "    \n",
    "    # Extract the video title for the filename\n",
    "    video_title = video_object.title\n",
    "    \n",
    "    # Define the path for this video\n",
    "    video_path = f\"{base_directory}/\"\n",
    "    \n",
    "    # Download the highest resolution stream\n",
    "    video_object.streams.get_highest_resolution().download(video_path)\n"
   ]
  },
  {
   "cell_type": "code",
   "execution_count": null,
   "id": "128a2be4",
   "metadata": {},
   "outputs": [],
   "source": []
  }
 ],
 "metadata": {
  "kernelspec": {
   "display_name": "Python 3",
   "language": "python",
   "name": "python3"
  },
  "language_info": {
   "codemirror_mode": {
    "name": "ipython",
    "version": 3
   },
   "file_extension": ".py",
   "mimetype": "text/x-python",
   "name": "python",
   "nbconvert_exporter": "python",
   "pygments_lexer": "ipython3",
   "version": "3.8.8"
  }
 },
 "nbformat": 4,
 "nbformat_minor": 5
}
