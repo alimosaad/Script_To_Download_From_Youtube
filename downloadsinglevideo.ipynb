{
 "cells": [
  {
   "cell_type": "code",
   "execution_count": null,
   "id": "3fc5f2bd",
   "metadata": {},
   "outputs": [],
   "source": [
    "from pytube import YouTube\n",
    "from colorama import init, Fore\n",
    "\n",
    "def on_complete(stream, filepath):\n",
    "    print('download complete')\n",
    "    print(filepath)\n",
    "\n",
    "def on_progress(stream, chunk, bytes_remaining):\n",
    "    progress_string = f'{round(100 - (bytes_remaining / stream.filesize * 100),2)}%'\n",
    "    print(progress_string)\n",
    "\n",
    "init()\n",
    "link = input('Youtube link: ')\n",
    "video_object = YouTube(link, on_complete_callback = on_complete, on_progress_callback = on_progress)\n",
    "\n",
    "path = r\"\"\"E:\\quran\\tibia\"\"\"\n",
    "\n",
    "video_object.streams.get_highest_resolution().download(path)\n",
    "\n"
   ]
  },
  {
   "cell_type": "code",
   "execution_count": null,
   "id": "26418260",
   "metadata": {},
   "outputs": [],
   "source": []
  }
 ],
 "metadata": {
  "kernelspec": {
   "display_name": "Python 3",
   "language": "python",
   "name": "python3"
  },
  "language_info": {
   "codemirror_mode": {
    "name": "ipython",
    "version": 3
   },
   "file_extension": ".py",
   "mimetype": "text/x-python",
   "name": "python",
   "nbconvert_exporter": "python",
   "pygments_lexer": "ipython3",
   "version": "3.8.8"
  }
 },
 "nbformat": 4,
 "nbformat_minor": 5
}
